{
 "cells": [
  {
   "cell_type": "code",
   "execution_count": 1,
   "id": "917d5ceb",
   "metadata": {},
   "outputs": [],
   "source": [
    "# imports\n",
    "from datasets import load_dataset, DatasetDict, Dataset\n",
    "from transformers import AutoConfig, BertTokenizer, AutoModelForSequenceClassification, TrainingArguments, Trainer, EvalPrediction\n",
    "from transformers import AutoTokenizer, AutoModel\n",
    "import torch\n",
    "from torch.utils.data import DataLoader\n",
    "from torch import Tensor\n",
    "\n",
    "import os\n",
    "from dotenv import load_dotenv\n",
    "from tqdm import tqdm\n",
    "import evaluate\n",
    "import wandb as wandb"
   ]
  },
  {
   "cell_type": "code",
   "execution_count": 2,
   "id": "cac8152b",
   "metadata": {},
   "outputs": [
    {
     "data": {
      "text/plain": [
       "True"
      ]
     },
     "execution_count": 2,
     "metadata": {},
     "output_type": "execute_result"
    }
   ],
   "source": [
    "# load env variables\n",
    "load_dotenv()"
   ]
  },
  {
   "cell_type": "code",
   "execution_count": 3,
   "id": "c9e4bb2a",
   "metadata": {},
   "outputs": [
    {
     "name": "stdout",
     "output_type": "stream",
     "text": [
      "/data/users/dhananjay/.cache/huggingface\n",
      "/data/users/dhananjay/.cache/huggingface\n"
     ]
    }
   ],
   "source": [
    "hf_home_dir = os.environ['HF_HOME']\n",
    "transformer_dir = os.environ['TRANSFORMERS_CACHE']\n",
    "print(hf_home_dir)\n",
    "print(transformer_dir)"
   ]
  },
  {
   "cell_type": "code",
   "execution_count": 4,
   "id": "66050582",
   "metadata": {},
   "outputs": [
    {
     "name": "stdout",
     "output_type": "stream",
     "text": [
      "cuda\n"
     ]
    }
   ],
   "source": [
    "device = torch.device(\"cuda\") if torch.cuda.is_available() else torch.device(\"cpu\")\n",
    "print(device)"
   ]
  },
  {
   "cell_type": "code",
   "execution_count": 5,
   "id": "1517a8eb",
   "metadata": {},
   "outputs": [
    {
     "name": "stderr",
     "output_type": "stream",
     "text": [
      "Found cached dataset parquet (/data/users/dhananjay/.cache/huggingface/dhananjay1210___parquet/dhananjay1210--SNLI_French-89304141788bdf04/0.0.0/2a3b91fbd88a2c90d1dbbb32b460cf621d31bd5b05b934492fdef7d8d6f236ec)\n"
     ]
    },
    {
     "data": {
      "application/json": {
       "ascii": false,
       "bar_format": null,
       "colour": null,
       "elapsed": 0.01856088638305664,
       "initial": 0,
       "n": 0,
       "ncols": null,
       "nrows": 24,
       "postfix": null,
       "prefix": "",
       "rate": null,
       "total": 3,
       "unit": "it",
       "unit_divisor": 1000,
       "unit_scale": false
      },
      "application/vnd.jupyter.widget-view+json": {
       "model_id": "2c2185c6e2ef4033aa1b553e904375a2",
       "version_major": 2,
       "version_minor": 0
      },
      "text/plain": [
       "  0%|          | 0/3 [00:00<?, ?it/s]"
      ]
     },
     "metadata": {},
     "output_type": "display_data"
    }
   ],
   "source": [
    "#french_data = load_dataset('Brendan/nlp244_french_snli', cache_dir=hf_home_dir)\n",
    "french_data = load_dataset('dhananjay1210/SNLI_French', cache_dir=hf_home_dir)"
   ]
  },
  {
   "cell_type": "code",
   "execution_count": 6,
   "id": "b9a7308e",
   "metadata": {},
   "outputs": [],
   "source": [
    "train = french_data['train']\n",
    "val = french_data['validation']\n",
    "test = french_data['test']"
   ]
  },
  {
   "cell_type": "code",
   "execution_count": 7,
   "id": "5634358b",
   "metadata": {},
   "outputs": [
    {
     "name": "stderr",
     "output_type": "stream",
     "text": [
      "Some weights of the model checkpoint at cmarkea/distilcamembert-base were not used when initializing CamembertForSequenceClassification: ['lm_head.dense.bias', 'lm_head.decoder.bias', 'lm_head.layer_norm.weight', 'lm_head.layer_norm.bias', 'lm_head.bias', 'lm_head.dense.weight', 'lm_head.decoder.weight']\n",
      "- This IS expected if you are initializing CamembertForSequenceClassification from the checkpoint of a model trained on another task or with another architecture (e.g. initializing a BertForSequenceClassification model from a BertForPreTraining model).\n",
      "- This IS NOT expected if you are initializing CamembertForSequenceClassification from the checkpoint of a model that you expect to be exactly identical (initializing a BertForSequenceClassification model from a BertForSequenceClassification model).\n",
      "Some weights of CamembertForSequenceClassification were not initialized from the model checkpoint at cmarkea/distilcamembert-base and are newly initialized: ['classifier.dense.bias', 'classifier.out_proj.bias', 'classifier.dense.weight', 'classifier.out_proj.weight']\n",
      "You should probably TRAIN this model on a down-stream task to be able to use it for predictions and inference.\n"
     ]
    }
   ],
   "source": [
    "# load model\n",
    "config = AutoConfig.from_pretrained(\"cmarkea/distilcamembert-base\")\n",
    "tokenizer = AutoTokenizer.from_pretrained(\"cmarkea/distilcamembert-base\")\n",
    "model = AutoModelForSequenceClassification.from_pretrained(\"cmarkea/distilcamembert-base\", num_labels=3, id2label={i: i for i in range(3)}).to(device)"
   ]
  },
  {
   "cell_type": "code",
   "execution_count": 8,
   "id": "b3ece60a",
   "metadata": {},
   "outputs": [
    {
     "name": "stderr",
     "output_type": "stream",
     "text": [
      "Loading cached processed dataset at /data/users/dhananjay/.cache/huggingface/dhananjay1210___parquet/dhananjay1210--SNLI_French-89304141788bdf04/0.0.0/2a3b91fbd88a2c90d1dbbb32b460cf621d31bd5b05b934492fdef7d8d6f236ec/cache-c12e0c244ae1118e.arrow\n"
     ]
    },
    {
     "data": {
      "application/json": {
       "ascii": false,
       "bar_format": null,
       "colour": null,
       "elapsed": 0.010999917984008789,
       "initial": 0,
       "n": 0,
       "ncols": null,
       "nrows": 24,
       "postfix": null,
       "prefix": "Map",
       "rate": null,
       "total": 9842,
       "unit": " examples",
       "unit_divisor": 1000,
       "unit_scale": false
      },
      "application/vnd.jupyter.widget-view+json": {
       "model_id": "",
       "version_major": 2,
       "version_minor": 0
      },
      "text/plain": [
       "Map:   0%|          | 0/9842 [00:00<?, ? examples/s]"
      ]
     },
     "metadata": {},
     "output_type": "display_data"
    }
   ],
   "source": [
    "# tokenize and batchify data\n",
    "train = train.map(lambda batch: tokenizer(batch['premise'], batch['hypothesis'], truncation=True, padding=True), batched=True, batch_size=256)\n",
    "val = val.map(lambda batch: tokenizer(batch['premise'], batch['hypothesis'], truncation=True, padding=True), batched=True, batch_size=256)"
   ]
  },
  {
   "cell_type": "code",
   "execution_count": 9,
   "id": "27482eb5",
   "metadata": {},
   "outputs": [
    {
     "data": {
      "text/plain": [
       "Dataset({\n",
       "    features: ['premise', 'hypothesis', 'label', 'input_ids', 'attention_mask'],\n",
       "    num_rows: 100000\n",
       "})"
      ]
     },
     "execution_count": 9,
     "metadata": {},
     "output_type": "execute_result"
    }
   ],
   "source": [
    "train"
   ]
  },
  {
   "cell_type": "code",
   "execution_count": 10,
   "id": "f40b4fa4",
   "metadata": {},
   "outputs": [],
   "source": [
    "train.set_format(type=\"pt\", columns=['input_ids', 'attention_mask', 'label'])\n",
    "val.set_format(type=\"pt\", columns=['input_ids', 'attention_mask', 'label'])"
   ]
  },
  {
   "cell_type": "code",
   "execution_count": 11,
   "id": "e78969b3",
   "metadata": {},
   "outputs": [
    {
     "data": {
      "text/plain": [
       "{'label': tensor(1),\n",
       " 'input_ids': tensor([    5,   180,   314,    15,  2833, 13600,    32,    23,  6439,   570,\n",
       "          6378,   958,     9,     6,     6,   180,   314,  6431,    58,  2833,\n",
       "            24,    23,  1477,     9,     6,     1,     1,     1,     1,     1,\n",
       "             1,     1,     1,     1,     1,     1,     1]),\n",
       " 'attention_mask': tensor([1, 1, 1, 1, 1, 1, 1, 1, 1, 1, 1, 1, 1, 1, 1, 1, 1, 1, 1, 1, 1, 1, 1, 1,\n",
       "         1, 0, 0, 0, 0, 0, 0, 0, 0, 0, 0, 0, 0])}"
      ]
     },
     "execution_count": 11,
     "metadata": {},
     "output_type": "execute_result"
    }
   ],
   "source": [
    "train[0]"
   ]
  },
  {
   "cell_type": "code",
   "execution_count": 12,
   "id": "87e18c10",
   "metadata": {},
   "outputs": [],
   "source": [
    "f1_metric = evaluate.load(\"f1\", average=\"micro\")"
   ]
  },
  {
   "cell_type": "code",
   "execution_count": 13,
   "id": "993e8ad3",
   "metadata": {},
   "outputs": [],
   "source": [
    "# define evaluation \n",
    "def metric(eval_prediction):\n",
    "    logits, labels = eval_prediction.predictions, eval_prediction.label_ids\n",
    "    predictions = logits.argmax(axis=1)\n",
    "    return f1_metric.compute(predictions=predictions, references=labels, average=\"micro\")"
   ]
  },
  {
   "cell_type": "code",
   "execution_count": 14,
   "id": "f4e9d0d4",
   "metadata": {},
   "outputs": [],
   "source": [
    "output_checkpoint_dir = \"./checkpoints\"\n",
    "\n",
    "training_args: TrainingArguments = TrainingArguments(\n",
    "        output_dir=output_checkpoint_dir,\n",
    "        do_train=True,\n",
    "        do_eval=True,\n",
    "        do_predict=True,\n",
    "        evaluation_strategy=\"steps\",\n",
    "        eval_steps=128,\n",
    "        per_device_train_batch_size=256,\n",
    "        per_device_eval_batch_size=128,\n",
    "        save_steps=128,\n",
    "        save_strategy=\"steps\",\n",
    "        save_total_limit=5,\n",
    "        logging_steps=50,\n",
    "        num_train_epochs=10,\n",
    "        metric_for_best_model=\"f1\",\n",
    "        load_best_model_at_end=True,\n",
    "        dataloader_num_workers=0\n",
    "    )"
   ]
  },
  {
   "cell_type": "code",
   "execution_count": 16,
   "id": "bd049b2b",
   "metadata": {},
   "outputs": [],
   "source": [
    " trainer: Trainer = Trainer(\n",
    "        model=model,\n",
    "        args=training_args,\n",
    "        data_collator=None, \n",
    "        train_dataset=train,\n",
    "        eval_dataset=val,\n",
    "        tokenizer=tokenizer,\n",
    "        compute_metrics=metric,\n",
    "    )"
   ]
  },
  {
   "cell_type": "code",
   "execution_count": 17,
   "id": "453ff06b",
   "metadata": {},
   "outputs": [
    {
     "name": "stderr",
     "output_type": "stream",
     "text": [
      "The following columns in the training set don't have a corresponding argument in `CamembertForSequenceClassification.forward` and have been ignored: premise, hypothesis. If premise, hypothesis are not expected by `CamembertForSequenceClassification.forward`,  you can safely ignore this message.\n",
      "/data/users/dhananjay/miniconda3/lib/python3.9/site-packages/transformers/optimization.py:306: FutureWarning: This implementation of AdamW is deprecated and will be removed in a future version. Use the PyTorch implementation torch.optim.AdamW instead, or set `no_deprecation_warning=True` to disable this warning\n",
      "  warnings.warn(\n",
      "***** Running training *****\n",
      "  Num examples = 100000\n",
      "  Num Epochs = 10\n",
      "  Instantaneous batch size per device = 256\n",
      "  Total train batch size (w. parallel, distributed & accumulation) = 256\n",
      "  Gradient Accumulation steps = 1\n",
      "  Total optimization steps = 3910\n",
      "  Number of trainable parameters = 68097027\n",
      "Automatic Weights & Biases logging enabled, to disable set os.environ[\"WANDB_DISABLED\"] = \"true\"\n"
     ]
    },
    {
     "name": "stdout",
     "output_type": "stream",
     "text": [
      "huggingface/tokenizers: The current process just got forked, after parallelism has already been used. Disabling parallelism to avoid deadlocks...\n",
      "To disable this warning, you can either:\n",
      "\t- Avoid using `tokenizers` before the fork if possible\n",
      "\t- Explicitly set the environment variable TOKENIZERS_PARALLELISM=(true | false)\n"
     ]
    },
    {
     "name": "stderr",
     "output_type": "stream",
     "text": [
      "\u001b[34m\u001b[1mwandb\u001b[0m: Currently logged in as: \u001b[33mdsonawan\u001b[0m (\u001b[33mnlp244_quest\u001b[0m). Use \u001b[1m`wandb login --relogin`\u001b[0m to force relogin\n"
     ]
    },
    {
     "name": "stdout",
     "output_type": "stream",
     "text": [
      "huggingface/tokenizers: The current process just got forked, after parallelism has already been used. Disabling parallelism to avoid deadlocks...\n",
      "To disable this warning, you can either:\n",
      "\t- Avoid using `tokenizers` before the fork if possible\n",
      "\t- Explicitly set the environment variable TOKENIZERS_PARALLELISM=(true | false)\n"
     ]
    },
    {
     "data": {
      "text/html": [
       "Tracking run with wandb version 0.13.10"
      ],
      "text/plain": [
       "<IPython.core.display.HTML object>"
      ]
     },
     "metadata": {},
     "output_type": "display_data"
    },
    {
     "data": {
      "text/html": [
       "Run data is saved locally in <code>/data/users/dhananjay/nlp244/quest_4/wandb/run-20230224_211854-fjva56e5</code>"
      ],
      "text/plain": [
       "<IPython.core.display.HTML object>"
      ]
     },
     "metadata": {},
     "output_type": "display_data"
    },
    {
     "data": {
      "text/html": [
       "Syncing run <strong><a href='https://wandb.ai/nlp244_quest/huggingface/runs/fjva56e5' target=\"_blank\">./checkpoints</a></strong> to <a href='https://wandb.ai/nlp244_quest/huggingface' target=\"_blank\">Weights & Biases</a> (<a href='https://wandb.me/run' target=\"_blank\">docs</a>)<br/>"
      ],
      "text/plain": [
       "<IPython.core.display.HTML object>"
      ]
     },
     "metadata": {},
     "output_type": "display_data"
    },
    {
     "data": {
      "text/html": [
       " View project at <a href='https://wandb.ai/nlp244_quest/huggingface' target=\"_blank\">https://wandb.ai/nlp244_quest/huggingface</a>"
      ],
      "text/plain": [
       "<IPython.core.display.HTML object>"
      ]
     },
     "metadata": {},
     "output_type": "display_data"
    },
    {
     "data": {
      "text/html": [
       " View run at <a href='https://wandb.ai/nlp244_quest/huggingface/runs/fjva56e5' target=\"_blank\">https://wandb.ai/nlp244_quest/huggingface/runs/fjva56e5</a>"
      ],
      "text/plain": [
       "<IPython.core.display.HTML object>"
      ]
     },
     "metadata": {},
     "output_type": "display_data"
    },
    {
     "name": "stderr",
     "output_type": "stream",
     "text": [
      "You're using a CamembertTokenizerFast tokenizer. Please note that with a fast tokenizer, using the `__call__` method is faster than using a method to encode the text followed by a call to the `pad` method to get a padded encoding.\n"
     ]
    },
    {
     "data": {
      "text/html": [
       "\n",
       "    <div>\n",
       "      \n",
       "      <progress value='3910' max='3910' style='width:300px; height:20px; vertical-align: middle;'></progress>\n",
       "      [3910/3910 09:33, Epoch 10/10]\n",
       "    </div>\n",
       "    <table border=\"1\" class=\"dataframe\">\n",
       "  <thead>\n",
       " <tr style=\"text-align: left;\">\n",
       "      <th>Step</th>\n",
       "      <th>Training Loss</th>\n",
       "      <th>Validation Loss</th>\n",
       "      <th>F1</th>\n",
       "    </tr>\n",
       "  </thead>\n",
       "  <tbody>\n",
       "    <tr>\n",
       "      <td>128</td>\n",
       "      <td>0.871000</td>\n",
       "      <td>0.756315</td>\n",
       "      <td>0.670697</td>\n",
       "    </tr>\n",
       "    <tr>\n",
       "      <td>256</td>\n",
       "      <td>0.741100</td>\n",
       "      <td>0.690731</td>\n",
       "      <td>0.704735</td>\n",
       "    </tr>\n",
       "    <tr>\n",
       "      <td>384</td>\n",
       "      <td>0.718800</td>\n",
       "      <td>0.666707</td>\n",
       "      <td>0.722211</td>\n",
       "    </tr>\n",
       "    <tr>\n",
       "      <td>512</td>\n",
       "      <td>0.657700</td>\n",
       "      <td>0.656913</td>\n",
       "      <td>0.723227</td>\n",
       "    </tr>\n",
       "    <tr>\n",
       "      <td>640</td>\n",
       "      <td>0.654700</td>\n",
       "      <td>0.661402</td>\n",
       "      <td>0.723837</td>\n",
       "    </tr>\n",
       "    <tr>\n",
       "      <td>768</td>\n",
       "      <td>0.642900</td>\n",
       "      <td>0.638541</td>\n",
       "      <td>0.737553</td>\n",
       "    </tr>\n",
       "    <tr>\n",
       "      <td>896</td>\n",
       "      <td>0.589900</td>\n",
       "      <td>0.633729</td>\n",
       "      <td>0.745479</td>\n",
       "    </tr>\n",
       "    <tr>\n",
       "      <td>1024</td>\n",
       "      <td>0.579400</td>\n",
       "      <td>0.637754</td>\n",
       "      <td>0.739687</td>\n",
       "    </tr>\n",
       "    <tr>\n",
       "      <td>1152</td>\n",
       "      <td>0.579900</td>\n",
       "      <td>0.627898</td>\n",
       "      <td>0.743040</td>\n",
       "    </tr>\n",
       "    <tr>\n",
       "      <td>1280</td>\n",
       "      <td>0.513900</td>\n",
       "      <td>0.644374</td>\n",
       "      <td>0.748730</td>\n",
       "    </tr>\n",
       "    <tr>\n",
       "      <td>1408</td>\n",
       "      <td>0.526700</td>\n",
       "      <td>0.649659</td>\n",
       "      <td>0.743751</td>\n",
       "    </tr>\n",
       "    <tr>\n",
       "      <td>1536</td>\n",
       "      <td>0.517700</td>\n",
       "      <td>0.635306</td>\n",
       "      <td>0.747307</td>\n",
       "    </tr>\n",
       "    <tr>\n",
       "      <td>1664</td>\n",
       "      <td>0.474500</td>\n",
       "      <td>0.652431</td>\n",
       "      <td>0.748425</td>\n",
       "    </tr>\n",
       "    <tr>\n",
       "      <td>1792</td>\n",
       "      <td>0.481900</td>\n",
       "      <td>0.656875</td>\n",
       "      <td>0.749746</td>\n",
       "    </tr>\n",
       "    <tr>\n",
       "      <td>1920</td>\n",
       "      <td>0.478200</td>\n",
       "      <td>0.645232</td>\n",
       "      <td>0.749949</td>\n",
       "    </tr>\n",
       "    <tr>\n",
       "      <td>2048</td>\n",
       "      <td>0.434400</td>\n",
       "      <td>0.684879</td>\n",
       "      <td>0.750457</td>\n",
       "    </tr>\n",
       "    <tr>\n",
       "      <td>2176</td>\n",
       "      <td>0.444200</td>\n",
       "      <td>0.668640</td>\n",
       "      <td>0.748527</td>\n",
       "    </tr>\n",
       "    <tr>\n",
       "      <td>2304</td>\n",
       "      <td>0.442200</td>\n",
       "      <td>0.668656</td>\n",
       "      <td>0.746495</td>\n",
       "    </tr>\n",
       "    <tr>\n",
       "      <td>2432</td>\n",
       "      <td>0.408000</td>\n",
       "      <td>0.698713</td>\n",
       "      <td>0.749238</td>\n",
       "    </tr>\n",
       "    <tr>\n",
       "      <td>2560</td>\n",
       "      <td>0.411100</td>\n",
       "      <td>0.679299</td>\n",
       "      <td>0.750254</td>\n",
       "    </tr>\n",
       "    <tr>\n",
       "      <td>2688</td>\n",
       "      <td>0.398300</td>\n",
       "      <td>0.700046</td>\n",
       "      <td>0.746495</td>\n",
       "    </tr>\n",
       "    <tr>\n",
       "      <td>2816</td>\n",
       "      <td>0.373700</td>\n",
       "      <td>0.727149</td>\n",
       "      <td>0.745987</td>\n",
       "    </tr>\n",
       "    <tr>\n",
       "      <td>2944</td>\n",
       "      <td>0.380600</td>\n",
       "      <td>0.718163</td>\n",
       "      <td>0.749136</td>\n",
       "    </tr>\n",
       "    <tr>\n",
       "      <td>3072</td>\n",
       "      <td>0.378400</td>\n",
       "      <td>0.726132</td>\n",
       "      <td>0.748933</td>\n",
       "    </tr>\n",
       "    <tr>\n",
       "      <td>3200</td>\n",
       "      <td>0.347000</td>\n",
       "      <td>0.737984</td>\n",
       "      <td>0.748730</td>\n",
       "    </tr>\n",
       "    <tr>\n",
       "      <td>3328</td>\n",
       "      <td>0.354800</td>\n",
       "      <td>0.729744</td>\n",
       "      <td>0.749543</td>\n",
       "    </tr>\n",
       "    <tr>\n",
       "      <td>3456</td>\n",
       "      <td>0.355200</td>\n",
       "      <td>0.731157</td>\n",
       "      <td>0.748222</td>\n",
       "    </tr>\n",
       "    <tr>\n",
       "      <td>3584</td>\n",
       "      <td>0.346500</td>\n",
       "      <td>0.737689</td>\n",
       "      <td>0.746698</td>\n",
       "    </tr>\n",
       "    <tr>\n",
       "      <td>3712</td>\n",
       "      <td>0.344900</td>\n",
       "      <td>0.744208</td>\n",
       "      <td>0.745885</td>\n",
       "    </tr>\n",
       "    <tr>\n",
       "      <td>3840</td>\n",
       "      <td>0.335800</td>\n",
       "      <td>0.744873</td>\n",
       "      <td>0.746596</td>\n",
       "    </tr>\n",
       "  </tbody>\n",
       "</table><p>"
      ],
      "text/plain": [
       "<IPython.core.display.HTML object>"
      ]
     },
     "metadata": {},
     "output_type": "display_data"
    },
    {
     "name": "stderr",
     "output_type": "stream",
     "text": [
      "The following columns in the evaluation set don't have a corresponding argument in `CamembertForSequenceClassification.forward` and have been ignored: premise, hypothesis. If premise, hypothesis are not expected by `CamembertForSequenceClassification.forward`,  you can safely ignore this message.\n",
      "***** Running Evaluation *****\n",
      "  Num examples = 9842\n",
      "  Batch size = 128\n",
      "Saving model checkpoint to ./checkpoints/checkpoint-128\n",
      "Configuration saved in ./checkpoints/checkpoint-128/config.json\n",
      "Model weights saved in ./checkpoints/checkpoint-128/pytorch_model.bin\n",
      "tokenizer config file saved in ./checkpoints/checkpoint-128/tokenizer_config.json\n",
      "Special tokens file saved in ./checkpoints/checkpoint-128/special_tokens_map.json\n",
      "The following columns in the evaluation set don't have a corresponding argument in `CamembertForSequenceClassification.forward` and have been ignored: premise, hypothesis. If premise, hypothesis are not expected by `CamembertForSequenceClassification.forward`,  you can safely ignore this message.\n",
      "***** Running Evaluation *****\n",
      "  Num examples = 9842\n",
      "  Batch size = 128\n",
      "Saving model checkpoint to ./checkpoints/checkpoint-256\n",
      "Configuration saved in ./checkpoints/checkpoint-256/config.json\n",
      "Model weights saved in ./checkpoints/checkpoint-256/pytorch_model.bin\n",
      "tokenizer config file saved in ./checkpoints/checkpoint-256/tokenizer_config.json\n",
      "Special tokens file saved in ./checkpoints/checkpoint-256/special_tokens_map.json\n",
      "The following columns in the evaluation set don't have a corresponding argument in `CamembertForSequenceClassification.forward` and have been ignored: premise, hypothesis. If premise, hypothesis are not expected by `CamembertForSequenceClassification.forward`,  you can safely ignore this message.\n",
      "***** Running Evaluation *****\n",
      "  Num examples = 9842\n",
      "  Batch size = 128\n",
      "Saving model checkpoint to ./checkpoints/checkpoint-384\n",
      "Configuration saved in ./checkpoints/checkpoint-384/config.json\n",
      "Model weights saved in ./checkpoints/checkpoint-384/pytorch_model.bin\n",
      "tokenizer config file saved in ./checkpoints/checkpoint-384/tokenizer_config.json\n",
      "Special tokens file saved in ./checkpoints/checkpoint-384/special_tokens_map.json\n",
      "The following columns in the evaluation set don't have a corresponding argument in `CamembertForSequenceClassification.forward` and have been ignored: premise, hypothesis. If premise, hypothesis are not expected by `CamembertForSequenceClassification.forward`,  you can safely ignore this message.\n",
      "***** Running Evaluation *****\n",
      "  Num examples = 9842\n",
      "  Batch size = 128\n",
      "Saving model checkpoint to ./checkpoints/checkpoint-512\n",
      "Configuration saved in ./checkpoints/checkpoint-512/config.json\n",
      "Model weights saved in ./checkpoints/checkpoint-512/pytorch_model.bin\n",
      "tokenizer config file saved in ./checkpoints/checkpoint-512/tokenizer_config.json\n",
      "Special tokens file saved in ./checkpoints/checkpoint-512/special_tokens_map.json\n",
      "The following columns in the evaluation set don't have a corresponding argument in `CamembertForSequenceClassification.forward` and have been ignored: premise, hypothesis. If premise, hypothesis are not expected by `CamembertForSequenceClassification.forward`,  you can safely ignore this message.\n",
      "***** Running Evaluation *****\n",
      "  Num examples = 9842\n",
      "  Batch size = 128\n",
      "Saving model checkpoint to ./checkpoints/checkpoint-640\n",
      "Configuration saved in ./checkpoints/checkpoint-640/config.json\n",
      "Model weights saved in ./checkpoints/checkpoint-640/pytorch_model.bin\n",
      "tokenizer config file saved in ./checkpoints/checkpoint-640/tokenizer_config.json\n",
      "Special tokens file saved in ./checkpoints/checkpoint-640/special_tokens_map.json\n",
      "The following columns in the evaluation set don't have a corresponding argument in `CamembertForSequenceClassification.forward` and have been ignored: premise, hypothesis. If premise, hypothesis are not expected by `CamembertForSequenceClassification.forward`,  you can safely ignore this message.\n",
      "***** Running Evaluation *****\n",
      "  Num examples = 9842\n",
      "  Batch size = 128\n",
      "Saving model checkpoint to ./checkpoints/checkpoint-768\n",
      "Configuration saved in ./checkpoints/checkpoint-768/config.json\n",
      "Model weights saved in ./checkpoints/checkpoint-768/pytorch_model.bin\n",
      "tokenizer config file saved in ./checkpoints/checkpoint-768/tokenizer_config.json\n",
      "Special tokens file saved in ./checkpoints/checkpoint-768/special_tokens_map.json\n",
      "Deleting older checkpoint [checkpoints/checkpoint-128] due to args.save_total_limit\n",
      "The following columns in the evaluation set don't have a corresponding argument in `CamembertForSequenceClassification.forward` and have been ignored: premise, hypothesis. If premise, hypothesis are not expected by `CamembertForSequenceClassification.forward`,  you can safely ignore this message.\n",
      "***** Running Evaluation *****\n",
      "  Num examples = 9842\n",
      "  Batch size = 128\n",
      "Saving model checkpoint to ./checkpoints/checkpoint-896\n",
      "Configuration saved in ./checkpoints/checkpoint-896/config.json\n",
      "Model weights saved in ./checkpoints/checkpoint-896/pytorch_model.bin\n",
      "tokenizer config file saved in ./checkpoints/checkpoint-896/tokenizer_config.json\n",
      "Special tokens file saved in ./checkpoints/checkpoint-896/special_tokens_map.json\n",
      "Deleting older checkpoint [checkpoints/checkpoint-256] due to args.save_total_limit\n",
      "The following columns in the evaluation set don't have a corresponding argument in `CamembertForSequenceClassification.forward` and have been ignored: premise, hypothesis. If premise, hypothesis are not expected by `CamembertForSequenceClassification.forward`,  you can safely ignore this message.\n",
      "***** Running Evaluation *****\n",
      "  Num examples = 9842\n",
      "  Batch size = 128\n",
      "Saving model checkpoint to ./checkpoints/checkpoint-1024\n",
      "Configuration saved in ./checkpoints/checkpoint-1024/config.json\n",
      "Model weights saved in ./checkpoints/checkpoint-1024/pytorch_model.bin\n",
      "tokenizer config file saved in ./checkpoints/checkpoint-1024/tokenizer_config.json\n",
      "Special tokens file saved in ./checkpoints/checkpoint-1024/special_tokens_map.json\n",
      "Deleting older checkpoint [checkpoints/checkpoint-384] due to args.save_total_limit\n",
      "The following columns in the evaluation set don't have a corresponding argument in `CamembertForSequenceClassification.forward` and have been ignored: premise, hypothesis. If premise, hypothesis are not expected by `CamembertForSequenceClassification.forward`,  you can safely ignore this message.\n",
      "***** Running Evaluation *****\n",
      "  Num examples = 9842\n",
      "  Batch size = 128\n",
      "Saving model checkpoint to ./checkpoints/checkpoint-1152\n",
      "Configuration saved in ./checkpoints/checkpoint-1152/config.json\n",
      "Model weights saved in ./checkpoints/checkpoint-1152/pytorch_model.bin\n",
      "tokenizer config file saved in ./checkpoints/checkpoint-1152/tokenizer_config.json\n",
      "Special tokens file saved in ./checkpoints/checkpoint-1152/special_tokens_map.json\n",
      "Deleting older checkpoint [checkpoints/checkpoint-512] due to args.save_total_limit\n",
      "The following columns in the evaluation set don't have a corresponding argument in `CamembertForSequenceClassification.forward` and have been ignored: premise, hypothesis. If premise, hypothesis are not expected by `CamembertForSequenceClassification.forward`,  you can safely ignore this message.\n",
      "***** Running Evaluation *****\n",
      "  Num examples = 9842\n",
      "  Batch size = 128\n",
      "Saving model checkpoint to ./checkpoints/checkpoint-1280\n",
      "Configuration saved in ./checkpoints/checkpoint-1280/config.json\n",
      "Model weights saved in ./checkpoints/checkpoint-1280/pytorch_model.bin\n",
      "tokenizer config file saved in ./checkpoints/checkpoint-1280/tokenizer_config.json\n",
      "Special tokens file saved in ./checkpoints/checkpoint-1280/special_tokens_map.json\n",
      "Deleting older checkpoint [checkpoints/checkpoint-640] due to args.save_total_limit\n",
      "The following columns in the evaluation set don't have a corresponding argument in `CamembertForSequenceClassification.forward` and have been ignored: premise, hypothesis. If premise, hypothesis are not expected by `CamembertForSequenceClassification.forward`,  you can safely ignore this message.\n",
      "***** Running Evaluation *****\n",
      "  Num examples = 9842\n",
      "  Batch size = 128\n",
      "Saving model checkpoint to ./checkpoints/checkpoint-1408\n",
      "Configuration saved in ./checkpoints/checkpoint-1408/config.json\n",
      "Model weights saved in ./checkpoints/checkpoint-1408/pytorch_model.bin\n"
     ]
    },
    {
     "name": "stderr",
     "output_type": "stream",
     "text": [
      "tokenizer config file saved in ./checkpoints/checkpoint-1408/tokenizer_config.json\n",
      "Special tokens file saved in ./checkpoints/checkpoint-1408/special_tokens_map.json\n",
      "Deleting older checkpoint [checkpoints/checkpoint-768] due to args.save_total_limit\n",
      "The following columns in the evaluation set don't have a corresponding argument in `CamembertForSequenceClassification.forward` and have been ignored: premise, hypothesis. If premise, hypothesis are not expected by `CamembertForSequenceClassification.forward`,  you can safely ignore this message.\n",
      "***** Running Evaluation *****\n",
      "  Num examples = 9842\n",
      "  Batch size = 128\n",
      "Saving model checkpoint to ./checkpoints/checkpoint-1536\n",
      "Configuration saved in ./checkpoints/checkpoint-1536/config.json\n",
      "Model weights saved in ./checkpoints/checkpoint-1536/pytorch_model.bin\n",
      "tokenizer config file saved in ./checkpoints/checkpoint-1536/tokenizer_config.json\n",
      "Special tokens file saved in ./checkpoints/checkpoint-1536/special_tokens_map.json\n",
      "Deleting older checkpoint [checkpoints/checkpoint-896] due to args.save_total_limit\n",
      "The following columns in the evaluation set don't have a corresponding argument in `CamembertForSequenceClassification.forward` and have been ignored: premise, hypothesis. If premise, hypothesis are not expected by `CamembertForSequenceClassification.forward`,  you can safely ignore this message.\n",
      "***** Running Evaluation *****\n",
      "  Num examples = 9842\n",
      "  Batch size = 128\n",
      "Saving model checkpoint to ./checkpoints/checkpoint-1664\n",
      "Configuration saved in ./checkpoints/checkpoint-1664/config.json\n",
      "Model weights saved in ./checkpoints/checkpoint-1664/pytorch_model.bin\n",
      "tokenizer config file saved in ./checkpoints/checkpoint-1664/tokenizer_config.json\n",
      "Special tokens file saved in ./checkpoints/checkpoint-1664/special_tokens_map.json\n",
      "Deleting older checkpoint [checkpoints/checkpoint-1024] due to args.save_total_limit\n",
      "The following columns in the evaluation set don't have a corresponding argument in `CamembertForSequenceClassification.forward` and have been ignored: premise, hypothesis. If premise, hypothesis are not expected by `CamembertForSequenceClassification.forward`,  you can safely ignore this message.\n",
      "***** Running Evaluation *****\n",
      "  Num examples = 9842\n",
      "  Batch size = 128\n",
      "Saving model checkpoint to ./checkpoints/checkpoint-1792\n",
      "Configuration saved in ./checkpoints/checkpoint-1792/config.json\n",
      "Model weights saved in ./checkpoints/checkpoint-1792/pytorch_model.bin\n",
      "tokenizer config file saved in ./checkpoints/checkpoint-1792/tokenizer_config.json\n",
      "Special tokens file saved in ./checkpoints/checkpoint-1792/special_tokens_map.json\n",
      "Deleting older checkpoint [checkpoints/checkpoint-1152] due to args.save_total_limit\n",
      "The following columns in the evaluation set don't have a corresponding argument in `CamembertForSequenceClassification.forward` and have been ignored: premise, hypothesis. If premise, hypothesis are not expected by `CamembertForSequenceClassification.forward`,  you can safely ignore this message.\n",
      "***** Running Evaluation *****\n",
      "  Num examples = 9842\n",
      "  Batch size = 128\n",
      "Saving model checkpoint to ./checkpoints/checkpoint-1920\n",
      "Configuration saved in ./checkpoints/checkpoint-1920/config.json\n",
      "Model weights saved in ./checkpoints/checkpoint-1920/pytorch_model.bin\n",
      "tokenizer config file saved in ./checkpoints/checkpoint-1920/tokenizer_config.json\n",
      "Special tokens file saved in ./checkpoints/checkpoint-1920/special_tokens_map.json\n",
      "Deleting older checkpoint [checkpoints/checkpoint-1280] due to args.save_total_limit\n",
      "The following columns in the evaluation set don't have a corresponding argument in `CamembertForSequenceClassification.forward` and have been ignored: premise, hypothesis. If premise, hypothesis are not expected by `CamembertForSequenceClassification.forward`,  you can safely ignore this message.\n",
      "***** Running Evaluation *****\n",
      "  Num examples = 9842\n",
      "  Batch size = 128\n",
      "Saving model checkpoint to ./checkpoints/checkpoint-2048\n",
      "Configuration saved in ./checkpoints/checkpoint-2048/config.json\n",
      "Model weights saved in ./checkpoints/checkpoint-2048/pytorch_model.bin\n",
      "tokenizer config file saved in ./checkpoints/checkpoint-2048/tokenizer_config.json\n",
      "Special tokens file saved in ./checkpoints/checkpoint-2048/special_tokens_map.json\n",
      "Deleting older checkpoint [checkpoints/checkpoint-1408] due to args.save_total_limit\n",
      "The following columns in the evaluation set don't have a corresponding argument in `CamembertForSequenceClassification.forward` and have been ignored: premise, hypothesis. If premise, hypothesis are not expected by `CamembertForSequenceClassification.forward`,  you can safely ignore this message.\n",
      "***** Running Evaluation *****\n",
      "  Num examples = 9842\n",
      "  Batch size = 128\n",
      "Saving model checkpoint to ./checkpoints/checkpoint-2176\n",
      "Configuration saved in ./checkpoints/checkpoint-2176/config.json\n",
      "Model weights saved in ./checkpoints/checkpoint-2176/pytorch_model.bin\n",
      "tokenizer config file saved in ./checkpoints/checkpoint-2176/tokenizer_config.json\n",
      "Special tokens file saved in ./checkpoints/checkpoint-2176/special_tokens_map.json\n",
      "Deleting older checkpoint [checkpoints/checkpoint-1536] due to args.save_total_limit\n",
      "The following columns in the evaluation set don't have a corresponding argument in `CamembertForSequenceClassification.forward` and have been ignored: premise, hypothesis. If premise, hypothesis are not expected by `CamembertForSequenceClassification.forward`,  you can safely ignore this message.\n",
      "***** Running Evaluation *****\n",
      "  Num examples = 9842\n",
      "  Batch size = 128\n",
      "Saving model checkpoint to ./checkpoints/checkpoint-2304\n",
      "Configuration saved in ./checkpoints/checkpoint-2304/config.json\n",
      "Model weights saved in ./checkpoints/checkpoint-2304/pytorch_model.bin\n",
      "tokenizer config file saved in ./checkpoints/checkpoint-2304/tokenizer_config.json\n",
      "Special tokens file saved in ./checkpoints/checkpoint-2304/special_tokens_map.json\n",
      "Deleting older checkpoint [checkpoints/checkpoint-1664] due to args.save_total_limit\n",
      "The following columns in the evaluation set don't have a corresponding argument in `CamembertForSequenceClassification.forward` and have been ignored: premise, hypothesis. If premise, hypothesis are not expected by `CamembertForSequenceClassification.forward`,  you can safely ignore this message.\n",
      "***** Running Evaluation *****\n",
      "  Num examples = 9842\n",
      "  Batch size = 128\n",
      "Saving model checkpoint to ./checkpoints/checkpoint-2432\n",
      "Configuration saved in ./checkpoints/checkpoint-2432/config.json\n",
      "Model weights saved in ./checkpoints/checkpoint-2432/pytorch_model.bin\n",
      "tokenizer config file saved in ./checkpoints/checkpoint-2432/tokenizer_config.json\n",
      "Special tokens file saved in ./checkpoints/checkpoint-2432/special_tokens_map.json\n",
      "Deleting older checkpoint [checkpoints/checkpoint-1792] due to args.save_total_limit\n",
      "The following columns in the evaluation set don't have a corresponding argument in `CamembertForSequenceClassification.forward` and have been ignored: premise, hypothesis. If premise, hypothesis are not expected by `CamembertForSequenceClassification.forward`,  you can safely ignore this message.\n",
      "***** Running Evaluation *****\n",
      "  Num examples = 9842\n",
      "  Batch size = 128\n",
      "Saving model checkpoint to ./checkpoints/checkpoint-2560\n",
      "Configuration saved in ./checkpoints/checkpoint-2560/config.json\n",
      "Model weights saved in ./checkpoints/checkpoint-2560/pytorch_model.bin\n",
      "tokenizer config file saved in ./checkpoints/checkpoint-2560/tokenizer_config.json\n",
      "Special tokens file saved in ./checkpoints/checkpoint-2560/special_tokens_map.json\n",
      "Deleting older checkpoint [checkpoints/checkpoint-1920] due to args.save_total_limit\n",
      "The following columns in the evaluation set don't have a corresponding argument in `CamembertForSequenceClassification.forward` and have been ignored: premise, hypothesis. If premise, hypothesis are not expected by `CamembertForSequenceClassification.forward`,  you can safely ignore this message.\n",
      "***** Running Evaluation *****\n",
      "  Num examples = 9842\n",
      "  Batch size = 128\n",
      "Saving model checkpoint to ./checkpoints/checkpoint-2688\n",
      "Configuration saved in ./checkpoints/checkpoint-2688/config.json\n",
      "Model weights saved in ./checkpoints/checkpoint-2688/pytorch_model.bin\n",
      "tokenizer config file saved in ./checkpoints/checkpoint-2688/tokenizer_config.json\n"
     ]
    },
    {
     "name": "stderr",
     "output_type": "stream",
     "text": [
      "Special tokens file saved in ./checkpoints/checkpoint-2688/special_tokens_map.json\n",
      "Deleting older checkpoint [checkpoints/checkpoint-2176] due to args.save_total_limit\n",
      "The following columns in the evaluation set don't have a corresponding argument in `CamembertForSequenceClassification.forward` and have been ignored: premise, hypothesis. If premise, hypothesis are not expected by `CamembertForSequenceClassification.forward`,  you can safely ignore this message.\n",
      "***** Running Evaluation *****\n",
      "  Num examples = 9842\n",
      "  Batch size = 128\n",
      "Saving model checkpoint to ./checkpoints/checkpoint-2816\n",
      "Configuration saved in ./checkpoints/checkpoint-2816/config.json\n",
      "Model weights saved in ./checkpoints/checkpoint-2816/pytorch_model.bin\n",
      "tokenizer config file saved in ./checkpoints/checkpoint-2816/tokenizer_config.json\n",
      "Special tokens file saved in ./checkpoints/checkpoint-2816/special_tokens_map.json\n",
      "Deleting older checkpoint [checkpoints/checkpoint-2304] due to args.save_total_limit\n",
      "The following columns in the evaluation set don't have a corresponding argument in `CamembertForSequenceClassification.forward` and have been ignored: premise, hypothesis. If premise, hypothesis are not expected by `CamembertForSequenceClassification.forward`,  you can safely ignore this message.\n",
      "***** Running Evaluation *****\n",
      "  Num examples = 9842\n",
      "  Batch size = 128\n",
      "Saving model checkpoint to ./checkpoints/checkpoint-2944\n",
      "Configuration saved in ./checkpoints/checkpoint-2944/config.json\n",
      "Model weights saved in ./checkpoints/checkpoint-2944/pytorch_model.bin\n",
      "tokenizer config file saved in ./checkpoints/checkpoint-2944/tokenizer_config.json\n",
      "Special tokens file saved in ./checkpoints/checkpoint-2944/special_tokens_map.json\n",
      "Deleting older checkpoint [checkpoints/checkpoint-2432] due to args.save_total_limit\n",
      "The following columns in the evaluation set don't have a corresponding argument in `CamembertForSequenceClassification.forward` and have been ignored: premise, hypothesis. If premise, hypothesis are not expected by `CamembertForSequenceClassification.forward`,  you can safely ignore this message.\n",
      "***** Running Evaluation *****\n",
      "  Num examples = 9842\n",
      "  Batch size = 128\n",
      "Saving model checkpoint to ./checkpoints/checkpoint-3072\n",
      "Configuration saved in ./checkpoints/checkpoint-3072/config.json\n",
      "Model weights saved in ./checkpoints/checkpoint-3072/pytorch_model.bin\n",
      "tokenizer config file saved in ./checkpoints/checkpoint-3072/tokenizer_config.json\n",
      "Special tokens file saved in ./checkpoints/checkpoint-3072/special_tokens_map.json\n",
      "Deleting older checkpoint [checkpoints/checkpoint-2560] due to args.save_total_limit\n",
      "The following columns in the evaluation set don't have a corresponding argument in `CamembertForSequenceClassification.forward` and have been ignored: premise, hypothesis. If premise, hypothesis are not expected by `CamembertForSequenceClassification.forward`,  you can safely ignore this message.\n",
      "***** Running Evaluation *****\n",
      "  Num examples = 9842\n",
      "  Batch size = 128\n",
      "Saving model checkpoint to ./checkpoints/checkpoint-3200\n",
      "Configuration saved in ./checkpoints/checkpoint-3200/config.json\n",
      "Model weights saved in ./checkpoints/checkpoint-3200/pytorch_model.bin\n",
      "tokenizer config file saved in ./checkpoints/checkpoint-3200/tokenizer_config.json\n",
      "Special tokens file saved in ./checkpoints/checkpoint-3200/special_tokens_map.json\n",
      "Deleting older checkpoint [checkpoints/checkpoint-2688] due to args.save_total_limit\n",
      "The following columns in the evaluation set don't have a corresponding argument in `CamembertForSequenceClassification.forward` and have been ignored: premise, hypothesis. If premise, hypothesis are not expected by `CamembertForSequenceClassification.forward`,  you can safely ignore this message.\n",
      "***** Running Evaluation *****\n",
      "  Num examples = 9842\n",
      "  Batch size = 128\n",
      "Saving model checkpoint to ./checkpoints/checkpoint-3328\n",
      "Configuration saved in ./checkpoints/checkpoint-3328/config.json\n",
      "Model weights saved in ./checkpoints/checkpoint-3328/pytorch_model.bin\n",
      "tokenizer config file saved in ./checkpoints/checkpoint-3328/tokenizer_config.json\n",
      "Special tokens file saved in ./checkpoints/checkpoint-3328/special_tokens_map.json\n",
      "Deleting older checkpoint [checkpoints/checkpoint-2816] due to args.save_total_limit\n",
      "The following columns in the evaluation set don't have a corresponding argument in `CamembertForSequenceClassification.forward` and have been ignored: premise, hypothesis. If premise, hypothesis are not expected by `CamembertForSequenceClassification.forward`,  you can safely ignore this message.\n",
      "***** Running Evaluation *****\n",
      "  Num examples = 9842\n",
      "  Batch size = 128\n",
      "Saving model checkpoint to ./checkpoints/checkpoint-3456\n",
      "Configuration saved in ./checkpoints/checkpoint-3456/config.json\n",
      "Model weights saved in ./checkpoints/checkpoint-3456/pytorch_model.bin\n",
      "tokenizer config file saved in ./checkpoints/checkpoint-3456/tokenizer_config.json\n",
      "Special tokens file saved in ./checkpoints/checkpoint-3456/special_tokens_map.json\n",
      "Deleting older checkpoint [checkpoints/checkpoint-2944] due to args.save_total_limit\n",
      "The following columns in the evaluation set don't have a corresponding argument in `CamembertForSequenceClassification.forward` and have been ignored: premise, hypothesis. If premise, hypothesis are not expected by `CamembertForSequenceClassification.forward`,  you can safely ignore this message.\n",
      "***** Running Evaluation *****\n",
      "  Num examples = 9842\n",
      "  Batch size = 128\n",
      "Saving model checkpoint to ./checkpoints/checkpoint-3584\n",
      "Configuration saved in ./checkpoints/checkpoint-3584/config.json\n",
      "Model weights saved in ./checkpoints/checkpoint-3584/pytorch_model.bin\n",
      "tokenizer config file saved in ./checkpoints/checkpoint-3584/tokenizer_config.json\n",
      "Special tokens file saved in ./checkpoints/checkpoint-3584/special_tokens_map.json\n",
      "Deleting older checkpoint [checkpoints/checkpoint-3072] due to args.save_total_limit\n",
      "The following columns in the evaluation set don't have a corresponding argument in `CamembertForSequenceClassification.forward` and have been ignored: premise, hypothesis. If premise, hypothesis are not expected by `CamembertForSequenceClassification.forward`,  you can safely ignore this message.\n",
      "***** Running Evaluation *****\n",
      "  Num examples = 9842\n",
      "  Batch size = 128\n",
      "Saving model checkpoint to ./checkpoints/checkpoint-3712\n",
      "Configuration saved in ./checkpoints/checkpoint-3712/config.json\n",
      "Model weights saved in ./checkpoints/checkpoint-3712/pytorch_model.bin\n",
      "tokenizer config file saved in ./checkpoints/checkpoint-3712/tokenizer_config.json\n",
      "Special tokens file saved in ./checkpoints/checkpoint-3712/special_tokens_map.json\n",
      "Deleting older checkpoint [checkpoints/checkpoint-3200] due to args.save_total_limit\n",
      "The following columns in the evaluation set don't have a corresponding argument in `CamembertForSequenceClassification.forward` and have been ignored: premise, hypothesis. If premise, hypothesis are not expected by `CamembertForSequenceClassification.forward`,  you can safely ignore this message.\n",
      "***** Running Evaluation *****\n",
      "  Num examples = 9842\n",
      "  Batch size = 128\n",
      "Saving model checkpoint to ./checkpoints/checkpoint-3840\n",
      "Configuration saved in ./checkpoints/checkpoint-3840/config.json\n",
      "Model weights saved in ./checkpoints/checkpoint-3840/pytorch_model.bin\n",
      "tokenizer config file saved in ./checkpoints/checkpoint-3840/tokenizer_config.json\n",
      "Special tokens file saved in ./checkpoints/checkpoint-3840/special_tokens_map.json\n",
      "Deleting older checkpoint [checkpoints/checkpoint-3328] due to args.save_total_limit\n",
      "\n",
      "\n",
      "Training completed. Do not forget to share your model on huggingface.co/models =)\n",
      "\n",
      "\n",
      "Loading best model from ./checkpoints/checkpoint-2048 (score: 0.7504572241414347).\n"
     ]
    }
   ],
   "source": [
    "# train model\n",
    "trainer.train()\n",
    "model = trainer.model"
   ]
  },
  {
   "cell_type": "code",
   "execution_count": 19,
   "id": "a5b0ae34",
   "metadata": {},
   "outputs": [
    {
     "data": {
      "application/json": {
       "ascii": false,
       "bar_format": null,
       "colour": null,
       "elapsed": 0.025220155715942383,
       "initial": 0,
       "n": 0,
       "ncols": null,
       "nrows": 24,
       "postfix": null,
       "prefix": "Map",
       "rate": null,
       "total": 9824,
       "unit": " examples",
       "unit_divisor": 1000,
       "unit_scale": false
      },
      "application/vnd.jupyter.widget-view+json": {
       "model_id": "",
       "version_major": 2,
       "version_minor": 0
      },
      "text/plain": [
       "Map:   0%|          | 0/9824 [00:00<?, ? examples/s]"
      ]
     },
     "metadata": {},
     "output_type": "display_data"
    }
   ],
   "source": [
    "# tokenize and batchify test data\n",
    "test = test.map(lambda batch: tokenizer(batch['premise'], batch['hypothesis'], truncation=True, padding=True), batched=True, batch_size=256)"
   ]
  },
  {
   "cell_type": "code",
   "execution_count": 21,
   "id": "a992a690",
   "metadata": {},
   "outputs": [],
   "source": [
    "test.set_format(type=\"pt\", columns=['input_ids', 'attention_mask', 'label'])"
   ]
  },
  {
   "cell_type": "code",
   "execution_count": 23,
   "id": "60fa2551",
   "metadata": {},
   "outputs": [
    {
     "name": "stderr",
     "output_type": "stream",
     "text": [
      "The following columns in the evaluation set don't have a corresponding argument in `CamembertForSequenceClassification.forward` and have been ignored: premise, hypothesis. If premise, hypothesis are not expected by `CamembertForSequenceClassification.forward`,  you can safely ignore this message.\n",
      "***** Running Evaluation *****\n",
      "  Num examples = 9824\n",
      "  Batch size = 128\n"
     ]
    },
    {
     "data": {
      "text/html": [
       "\n",
       "    <div>\n",
       "      \n",
       "      <progress value='77' max='77' style='width:300px; height:20px; vertical-align: middle;'></progress>\n",
       "      [77/77 00:02]\n",
       "    </div>\n",
       "    "
      ],
      "text/plain": [
       "<IPython.core.display.HTML object>"
      ]
     },
     "metadata": {},
     "output_type": "display_data"
    },
    {
     "data": {
      "text/plain": [
       "{'test_loss': 0.6925486922264099,\n",
       " 'test_f1': 0.7487785016286646,\n",
       " 'test_runtime': 2.691,\n",
       " 'test_samples_per_second': 3650.658,\n",
       " 'test_steps_per_second': 28.614,\n",
       " 'epoch': 10.0}"
      ]
     },
     "execution_count": 23,
     "metadata": {},
     "output_type": "execute_result"
    }
   ],
   "source": [
    "# evaluate test data\n",
    "trainer.evaluate(metric_key_prefix=\"test\", eval_dataset=test)"
   ]
  },
  {
   "cell_type": "code",
   "execution_count": null,
   "id": "7fa5645c",
   "metadata": {},
   "outputs": [],
   "source": []
  }
 ],
 "metadata": {
  "kernelspec": {
   "display_name": "Python 3 (ipykernel)",
   "language": "python",
   "name": "python3"
  },
  "language_info": {
   "codemirror_mode": {
    "name": "ipython",
    "version": 3
   },
   "file_extension": ".py",
   "mimetype": "text/x-python",
   "name": "python",
   "nbconvert_exporter": "python",
   "pygments_lexer": "ipython3",
   "version": "3.9.12"
  }
 },
 "nbformat": 4,
 "nbformat_minor": 5
}
